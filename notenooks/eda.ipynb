{
 "cells": [
  {
   "cell_type": "markdown",
   "id": "834d6624",
   "metadata": {},
   "source": [
    "## Data Ingestion"
   ]
  },
  {
   "cell_type": "code",
   "execution_count": null,
   "id": "9dc438e4",
   "metadata": {},
   "outputs": [],
   "source": [
    "import sys\n",
    "import os\n",
    "sys.path.append(os.path.abspath('../data'))\n",
    "sys.path.append(os.path.abspath(os.path.join(os.getcwd(), '..', 'src')))\n",
    "from get_data import load_claim_data # type: ignore\n",
    "\n",
    "import matplotlib.pyplot as plt # type: ignore\n",
    "import seaborn as sns\n",
    "import numpy as np\n",
    "import pandas as pd\n",
    "from pipeline.preprocessing import clean_claim_data, add_claim_features # type: ignore\n",
    "\n",
    "\n",
    "import warnings\n",
    "warnings.filterwarnings(\"ignore\")"
   ]
  },
  {
   "cell_type": "code",
   "execution_count": null,
   "id": "9c1fd598",
   "metadata": {},
   "outputs": [],
   "source": [
    "url = \"https://data.ny.gov/resource/jshw-gkgu.json\"\n",
    "params = {\n",
    "    \"$limit\": \"50000\"\n",
    "}\n",
    "\n",
    "claim_data = load_claim_data(url, params)\n",
    "claim_data.head()"
   ]
  },
  {
   "cell_type": "code",
   "execution_count": null,
   "id": "857fbcda",
   "metadata": {},
   "outputs": [],
   "source": [
    "# view of all the columns through transpose method\n",
    "claim_data.head().T"
   ]
  },
  {
   "cell_type": "code",
   "execution_count": null,
   "id": "ce05ce2e",
   "metadata": {},
   "outputs": [],
   "source": [
    "# filtering and segmentation of raw data\n",
    "LLM_data = claim_data[[\n",
    "    'claim_identifier',          \n",
    "    'claim_type',                 \n",
    "    'claim_injury_type',          \n",
    "    'accident_date',              \n",
    "    'accident_ind',               \n",
    "    'oiics_event_exposure_desc',  \n",
    "    'oiics_nature_injury_desc',  \n",
    "    'oiics_injury_source_desc',   \n",
    "    'wcio_cause_of_injury_desc',  \n",
    "    'wcio_nature_of_injury_desc', \n",
    "    'current_claim_status',       \n",
    "    'gender', \n",
    "    'age_at_injury',   \n",
    "    'district_name', \n",
    "    'zip_code'\n",
    "]]\n"
   ]
  },
  {
   "cell_type": "code",
   "execution_count": null,
   "id": "f83299f6",
   "metadata": {},
   "outputs": [],
   "source": [
    "LLM_data.head()"
   ]
  },
  {
   "cell_type": "code",
   "execution_count": null,
   "id": "6ebab755",
   "metadata": {},
   "outputs": [],
   "source": [
    "LLM_data.shape"
   ]
  },
  {
   "cell_type": "code",
   "execution_count": null,
   "id": "063ca08e",
   "metadata": {},
   "outputs": [],
   "source": [
    "LLM_data.info()"
   ]
  },
  {
   "cell_type": "code",
   "execution_count": null,
   "id": "aada24a2",
   "metadata": {},
   "outputs": [],
   "source": [
    "LLM_data.isna().sum()"
   ]
  },
  {
   "cell_type": "code",
   "execution_count": null,
   "id": "4ecba36d",
   "metadata": {},
   "outputs": [],
   "source": [
    "\n",
    "# visualization of fields with missing valued\n",
    "missing = LLM_data.isna().sum()\n",
    "missing = missing[missing > 0].sort_values(ascending=True)\n",
    "\n",
    "plt.figure(figsize=(10, 6))\n",
    "missing.plot(kind='barh', color='skyblue')\n",
    "plt.title(\"Missing Values per Column\")\n",
    "plt.xlabel(\"Number of Missing Values\")\n",
    "plt.ylabel(\"Column\")\n",
    "plt.tight_layout()\n",
    "plt.show()"
   ]
  },
  {
   "cell_type": "code",
   "execution_count": null,
   "id": "cbdcf463",
   "metadata": {},
   "outputs": [],
   "source": [
    "#cleaning data\n",
    "\n",
    "Cleaned_LLM_data = clean_claim_data(LLM_data, null_threshold=0.5)\n"
   ]
  },
  {
   "cell_type": "code",
   "execution_count": null,
   "id": "51f06a15",
   "metadata": {},
   "outputs": [],
   "source": [
    "LLM_claim_data = add_claim_features(Cleaned_LLM_data)"
   ]
  },
  {
   "cell_type": "code",
   "execution_count": null,
   "id": "c8e9a5f6",
   "metadata": {},
   "outputs": [],
   "source": [
    "LLM_claim_data.head()"
   ]
  },
  {
   "cell_type": "code",
   "execution_count": null,
   "id": "67f3ed79",
   "metadata": {},
   "outputs": [],
   "source": [
    "# Set plot style\n",
    "plt.figure(figsize=(12, 6))\n",
    "sns.countplot(\n",
    "    data=LLM_claim_data,\n",
    "    x='age_group',\n",
    "    hue='claim_type',\n",
    "    palette='Set2'\n",
    ")\n",
    "\n",
    "# Enhance plot\n",
    "plt.title(\"Distribution of Claim Types by Age Group\", fontsize=14)\n",
    "plt.xlabel(\"Age Group\", fontsize=12)\n",
    "plt.ylabel(\"Number of Claims\", fontsize=12)\n",
    "plt.xticks(rotation=45)\n",
    "plt.legend(title=\"Claim Type\", bbox_to_anchor=(1.05, 1), loc='upper left')\n",
    "plt.tight_layout()\n",
    "plt.show()"
   ]
  },
  {
   "cell_type": "code",
   "execution_count": null,
   "id": "6e2a07f1",
   "metadata": {},
   "outputs": [],
   "source": [
    "\n",
    "# Count frequency of each injury type\n",
    "injury_counts = LLM_claim_data[\"claim_injury_type\"].value_counts()\n",
    "\n",
    "# Plot vertical bar chart\n",
    "plt.figure(figsize=(12, 6))\n",
    "injury_counts.plot(kind='bar', color='steelblue')\n",
    "\n",
    "# Add labels and title\n",
    "plt.title(\"Frequency of Claim Injury Types\", fontsize=14)\n",
    "plt.xlabel(\"Injury Type\", fontsize=12)\n",
    "plt.ylabel(\"Number of Claims\", fontsize=12)\n",
    "plt.xticks(rotation=45, ha='right')\n",
    "plt.tight_layout()\n",
    "plt.show()\n",
    "\n"
   ]
  },
  {
   "cell_type": "code",
   "execution_count": null,
   "id": "6bdba530",
   "metadata": {},
   "outputs": [],
   "source": [
    "plt.figure(figsize=(12, 6))\n",
    "sns.countplot(data=LLM_claim_data, x=\"claim_injury_type\", hue=\"gender\", order=LLM_claim_data[\"claim_injury_type\"].value_counts().index)\n",
    "plt.title(\"Claim Injury Type by Gender\")\n",
    "plt.xticks(rotation=45, ha='right')\n",
    "plt.xlabel(\"Injury Type\")\n",
    "plt.ylabel(\"Number of claims\")\n",
    "plt.tight_layout()\n",
    "plt.show()\n"
   ]
  },
  {
   "cell_type": "code",
   "execution_count": null,
   "id": "9818bf9f",
   "metadata": {},
   "outputs": [],
   "source": [
    "# Create a cross-tabulation table (district_name x claim_type)\n",
    "heatmap_data = pd.crosstab(LLM_claim_data['district_name'], LLM_claim_data['claim_type'])\n",
    "\n",
    "# Optional: sort rows by total claims\n",
    "heatmap_data = heatmap_data.loc[heatmap_data.sum(axis=1).sort_values(ascending=False).index[:15]]\n",
    "\n",
    "# Plot heatmap\n",
    "plt.figure(figsize=(14, 8))\n",
    "sns.heatmap(heatmap_data, annot=True, fmt='d', cmap='YlGnBu', linewidths=.5)\n",
    "\n",
    "plt.title(\"Heatmap of Claim Types by District Name\", fontsize=14)\n",
    "plt.xlabel(\"Claim Type\")\n",
    "plt.ylabel(\"District Name\")\n",
    "plt.tight_layout()\n",
    "plt.show()"
   ]
  },
  {
   "cell_type": "code",
   "execution_count": null,
   "id": "ed9dc4a7",
   "metadata": {},
   "outputs": [],
   "source": [
    "# Ensure accident_date is in datetime format\n",
    "LLM_claim_data['accident_date'] = pd.to_datetime(LLM_claim_data['accident_date'], errors='coerce')\n",
    "\n",
    "# Drop missing dates\n",
    "cumulative_df = LLM_claim_data.dropna(subset=['accident_date'])\n",
    "\n",
    "# Group by date and compute cumulative count\n",
    "cumulative_df = (\n",
    "    cumulative_df\n",
    "    .groupby('accident_date')\n",
    "    .size()\n",
    "    .cumsum()\n",
    "    .reset_index(name='cumulative_claims')\n",
    ")\n",
    "\n",
    "# Plot area chart\n",
    "plt.figure(figsize=(12, 6))\n",
    "plt.fill_between(cumulative_df['accident_date'], cumulative_df['cumulative_claims'], alpha=0.4)\n",
    "plt.plot(cumulative_df['accident_date'], cumulative_df['cumulative_claims'], linewidth=2)\n",
    "\n",
    "# Enhance plot\n",
    "plt.title(\"📈 Cumulative Growth of Insurance Claims Over Time\", fontsize=14)\n",
    "plt.xlabel(\"Accident Date\")\n",
    "plt.ylabel(\"Cumulative Number of Claims\")\n",
    "plt.grid(alpha=0.3)\n",
    "plt.tight_layout()\n",
    "plt.show()"
   ]
  },
  {
   "cell_type": "code",
   "execution_count": null,
   "id": "f5bb139f",
   "metadata": {},
   "outputs": [],
   "source": [
    "# Convert to datetime\n",
    "LLM_claim_data['accident_date'] = pd.to_datetime(LLM_claim_data['accident_date'], errors='coerce')\n",
    "\n",
    "LLM_claim_data['current_date'] = pd.to_datetime(\"today\")\n",
    "\n",
    "# Calculate delay in days\n",
    "LLM_claim_data['delay_days'] = (LLM_claim_data['current_date'] - LLM_claim_data['accident_date']).dt.days\n",
    "\n",
    "# Extract month and day for calendar-style plot\n",
    "LLM_claim_data['accident_month'] = LLM_claim_data['accident_date'].dt.month\n",
    "LLM_claim_data['accident_day'] = LLM_claim_data['accident_date'].dt.day\n",
    "\n",
    "# Create pivot table for heatmap (average delay by day/month)\n",
    "calendar_data = (\n",
    "    LLM_claim_data\n",
    "    .groupby(['accident_month', 'accident_day'])['delay_days']\n",
    "    .mean()\n",
    "    .unstack()\n",
    ")\n",
    "\n",
    "# Plot the calendar-style heatmap\n",
    "plt.figure(figsize=(16, 6))\n",
    "sns.heatmap(calendar_data, cmap='YlOrRd', linewidths=0.5, linecolor='gray', annot=False)\n",
    "\n",
    "# Enhance plot\n",
    "plt.title(\"Average Claim Delay (in Days) by Accident Date\", fontsize=14)\n",
    "plt.xlabel(\"Day of Month\")\n",
    "plt.ylabel(\"Month\")\n",
    "plt.tight_layout()\n",
    "plt.show()"
   ]
  },
  {
   "cell_type": "code",
   "execution_count": null,
   "id": "2d3cd6c8",
   "metadata": {},
   "outputs": [],
   "source": [
    "# Visualize age group distribution\n",
    "labels = ['<18', '18–29', '30–44', '45–59', '60–74', '75+']\n",
    "\n",
    "plt.figure(figsize=(10, 5))\n",
    "sns.countplot(data=LLM_claim_data, x='age_group', order=labels, palette='viridis')\n",
    "plt.title(\"Number of Claims per Age Group\")\n",
    "plt.xlabel(\"Age Group\")\n",
    "plt.ylabel(\"Number of Claims\")\n",
    "plt.tight_layout()\n",
    "plt.show()"
   ]
  },
  {
   "cell_type": "code",
   "execution_count": null,
   "id": "890c476e",
   "metadata": {},
   "outputs": [],
   "source": [
    "# Count number of claims per month\n",
    "monthly_claims = LLM_claim_data['accident_month'].value_counts().sort_index()\n",
    "\n",
    "# Plot\n",
    "plt.figure(figsize=(12, 6))\n",
    "sns.barplot(x=monthly_claims.index, y=monthly_claims.values, palette='crest')\n",
    "plt.title('Number of Claims by Month')\n",
    "plt.xlabel('Month')\n",
    "plt.ylabel('Number of Claims')\n",
    "plt.xticks(rotation=45)\n",
    "plt.tight_layout()\n",
    "plt.show()\n"
   ]
  }
 ],
 "metadata": {
  "kernelspec": {
   "display_name": "venv",
   "language": "python",
   "name": "python3"
  },
  "language_info": {
   "codemirror_mode": {
    "name": "ipython",
    "version": 3
   },
   "file_extension": ".py",
   "mimetype": "text/x-python",
   "name": "python",
   "nbconvert_exporter": "python",
   "pygments_lexer": "ipython3",
   "version": "3.10.12"
  }
 },
 "nbformat": 4,
 "nbformat_minor": 5
}
