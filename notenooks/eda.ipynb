{
 "cells": [
  {
   "cell_type": "markdown",
   "id": "e7b601ca",
   "metadata": {},
   "source": [
    "# Intelligent Claims Processing: Exploratory Data Analysis (EDA)\n",
    "\n",
    "## Overview\n",
    "\n",
    "This notebook presents an in-depth Exploratory Data Analysis (EDA) of an insurance claims dataset in</br>\n",
    "preparation for building an **Intelligent Claims Processing System**. The goal is to understand the structure, quality, </br>\n",
    "and patterns within the data to support downstream tasks such as **claims triaging, summarization, fraud detection**,</br>\n",
    "and **automation using Large Language Models (LLMs)**.\n",
    "\n",
    "Key steps include:\n",
    "\n",
    "- Identifying and handling missing values.\n",
    "- Analyzing the distribution of claims by **age, gender, location, and injury type**.\n",
    "- Exploring **temporal trends** such as accident dates and claim delays.\n",
    "- Engineering new features like **age groups** and **months** to extract deeper insights.\n",
    "- Highlighting key business areas like **high-volume districts**, **frequent injury types**, and **claim status outcomes**.\n",
    "\n",
    "The EDA findings will guide the design of intelligent features, inform preprocessing </br>\n",
    "decisions, and help define business rules that can be enhanced using machine learning and generative AI tools.\n"
   ]
  },
  {
   "cell_type": "code",
   "execution_count": null,
   "id": "ff247aaa",
   "metadata": {},
   "outputs": [],
   "source": [
    "import sys\n",
    "import os\n",
    "sys.path.append(os.path.abspath('../data'))\n",
    "sys.path.append(os.path.abspath(os.path.join(os.getcwd(), '..', 'src')))\n",
    "from get_data import load_claim_data # type: ignore\n",
    "\n",
    "import matplotlib.pyplot as plt # type: ignore\n",
    "import seaborn as sns\n",
    "import numpy as np\n",
    "import pandas as pd\n",
    "from pipeline.preprocessing import clean_claim_data, add_claim_features # type: ignore\n",
    "\n",
    "\n",
    "import warnings\n",
    "warnings.filterwarnings(\"ignore\")"
   ]
  },
  {
   "cell_type": "code",
   "execution_count": null,
   "id": "9c1fd598",
   "metadata": {},
   "outputs": [],
   "source": [
    "url = \"https://data.ny.gov/resource/jshw-gkgu.json\"\n",
    "params = {\n",
    "    \"$limit\": \"50000\"\n",
    "}\n",
    "\n",
    "claim_data = load_claim_data(url, params)\n",
    "claim_data.head()"
   ]
  },
  {
   "cell_type": "code",
   "execution_count": null,
   "id": "857fbcda",
   "metadata": {},
   "outputs": [],
   "source": [
    "# view of all the columns through transpose method\n",
    "claim_data.head().T"
   ]
  },
  {
   "cell_type": "code",
   "execution_count": null,
   "id": "ce05ce2e",
   "metadata": {},
   "outputs": [],
   "source": [
    "# filtering and segmentation of raw data\n",
    "LLM_data = claim_data[[\n",
    "    'claim_identifier',          \n",
    "    'claim_type',                 \n",
    "    'claim_injury_type',          \n",
    "    'accident_date',              \n",
    "    'accident_ind',               \n",
    "    'oiics_event_exposure_desc',  \n",
    "    'oiics_nature_injury_desc',  \n",
    "    'oiics_injury_source_desc',   \n",
    "    'wcio_cause_of_injury_desc',  \n",
    "    'wcio_nature_of_injury_desc', \n",
    "    'current_claim_status',       \n",
    "    'gender', \n",
    "    'age_at_injury',   \n",
    "    'district_name', \n",
    "    'zip_code'\n",
    "]]\n"
   ]
  },
  {
   "cell_type": "code",
   "execution_count": null,
   "id": "f83299f6",
   "metadata": {},
   "outputs": [],
   "source": [
    "LLM_data.head()"
   ]
  },
  {
   "cell_type": "code",
   "execution_count": null,
   "id": "6ebab755",
   "metadata": {},
   "outputs": [],
   "source": [
    "# checking the structure of the data\n",
    "LLM_data.shape"
   ]
  },
  {
   "cell_type": "code",
   "execution_count": null,
   "id": "063ca08e",
   "metadata": {},
   "outputs": [],
   "source": [
    "# understanding data types\n",
    "LLM_data.info()"
   ]
  },
  {
   "cell_type": "code",
   "execution_count": null,
   "id": "aada24a2",
   "metadata": {},
   "outputs": [],
   "source": [
    "# checking completness\n",
    "LLM_data.isna().sum()"
   ]
  },
  {
   "cell_type": "markdown",
   "id": "9bdd7438",
   "metadata": {},
   "source": [
    "### 1. Objective: Understanding and Handling Missing Data\n",
    "\n",
    "Before applying any modeling, summarization, or reporting logic, it's essential to assess **data completeness**. </br>\n",
    "Missing values not only affect the performance of predictive models (like LLMs), </br>\n",
    "but can also introduce bias or lead to misinterpretation of claims behavior.\n",
    "\n",
    "### Why This Step Matters\n",
    "- Helps determine whether certain features are usable or too incomplete </br>\n",
    "- Guides cleaning strategy: whether to drop, impute, or engineer around the missingness </br>\n",
    "- Reveals operational gaps (e.g., injury descriptors often missing) that may inform process improvement\n",
    "\n",
    "### What We Aim to Achieve\n",
    "- Identify which features are missing most frequently </br>\n",
    "- Decide **what to drop** (irrecoverable or too sparse)\n",
    "- Decide **what to impute** (fields that are important for modeling or EDA) </br>\n",
    "- Build a **clean, LLM-friendly dataset** by avoiding unnecessary noise and structural gaps </br>\n",
    "\n",
    "The visual below displays the number of missing entries per column, </br>\n",
    "allowing us to make evidence-based decisions in the data cleaning phase."
   ]
  },
  {
   "cell_type": "code",
   "execution_count": null,
   "id": "4ecba36d",
   "metadata": {},
   "outputs": [],
   "source": [
    "\n",
    "# visualization of fields with missing valued\n",
    "missing = LLM_data.isna().sum()\n",
    "missing = missing[missing > 0].sort_values(ascending=True)\n",
    "\n",
    "plt.figure(figsize=(10, 6))\n",
    "missing.plot(kind='barh', color='skyblue')\n",
    "plt.title(\"Missing Values per Column\")\n",
    "plt.xlabel(\"Number of Missing Values\")\n",
    "plt.ylabel(\"Column\")\n",
    "plt.tight_layout()\n",
    "plt.show()"
   ]
  },
  {
   "cell_type": "markdown",
   "id": "711d6832",
   "metadata": {},
   "source": [
    "### Handling Missing Data: Feature Elimination and Imputation\n",
    "\n",
    "The bar chart above visualizes the number of missing values per column in the claims dataset. </br>\n",
    "Several fields — particularly those related to injury classification (`wcio_` and `oiics_` descriptors) —  </br>\n",
    "exhibit extremely high levels of missingness, with over 27,000 to 48,000 null entries. </br>\n",
    "\n",
    "#### 🔴 Columns Dropped (≥ 50% missing)\n",
    "The following features were dropped from the dataset due to excessive missingness, which made </br>\n",
    "them unreliable and potentially harmful to downstream analysis or modeling: </br>\n",
    "\n",
    "- `oiics_event_exposure_desc`\n",
    "- `oiics_nature_injury_desc`\n",
    "- `oiics_injury_source_desc`\n",
    "- `wcio_cause_of_injury_desc`\n",
    "- `wcio_nature_of_injury_desc`\n",
    "\n",
    "These fields were contributing limited analytical value due to their sparsity and would increase noise in LLM summarization tasks. </br>\n",
    "\n",
    "#### 🟡 Column Retained & Imputed: `accident_date`\n",
    "Although `accident_date` had some missing values, its overall completeness was above 98%. </br>\n",
    "Since it plays a critical role in temporal analysis (e.g., calculating delays, seasonality),  </br>\n",
    "we **retained** the field and **imputed** missing values with a placeholder value:"
   ]
  },
  {
   "cell_type": "markdown",
   "id": "c143248f",
   "metadata": {},
   "source": [
    "### 2. Objective: Assessing Missing Data by Claim Type\n",
    "\n",
    "This analysis aims to identify whether certain claim types (e.g., *Non-WC* vs *Workers' Compensation*) </br>\n",
    "have systematic differences in missing data across key features. </br>\n",
    "\n",
    "By examining missingness by claim category, we can: </br>\n",
    "- Make **targeted data cleaning decisions** rather than applying global thresholds </br>\n",
    "- Detect operational inconsistencies in data collection processes </br>\n",
    "- Inform **feature selection** for downstream modeling and summarization tasks using LLMs </br>\n",
    "\n",
    "The heatmap below shows the **percentage of missing values per feature**, grouped by `claim_type`."
   ]
  },
  {
   "cell_type": "code",
   "execution_count": null,
   "id": "22198762",
   "metadata": {},
   "outputs": [],
   "source": [
    "# Calculate missing percentage per column grouped by claim_type\n",
    "missing_by_claim_type = (\n",
    "    LLM_data\n",
    "    .groupby('claim_type')\n",
    "    .apply(lambda x: x.isna().mean() * 100)\n",
    "    .transpose()\n",
    ")\n",
    "\n",
    "# Plot heatmap\n",
    "plt.figure(figsize=(14, 6))\n",
    "sns.heatmap(missing_by_claim_type, cmap='YlOrRd', annot=True, fmt=\".1f\", cbar_kws={'label': '% Missing'})\n",
    "plt.title(\" Percentage of Missing Values per Claim Type\", fontsize=14)\n",
    "plt.xlabel(\"Claim Type\")\n",
    "plt.ylabel(\"Feature\")\n",
    "plt.tight_layout()\n",
    "plt.show()"
   ]
  },
  {
   "cell_type": "markdown",
   "id": "a0bd40c3",
   "metadata": {},
   "source": [
    "### Insights from the Visual:\n",
    "\n",
    "- `accident_date` is missing in **~40% of Non-WC claims**, but **only ~1.3%** in Workers' Compensation claims. \n",
    "   This suggests differing reporting standards between claim types.\n",
    "- Structured injury descriptors (`oiics_` and `wcio_` columns) have **very high missingness**:\n",
    "  - **Over 99% missing** in Non-WC claims\n",
    "  - **~95% missing** in WC claims  \n",
    "  These fields are too sparse to be useful for modeling or LLM input, especially if not consistently collected.\n",
    "- All other columns (`claim_type`, `district_name`, `zip_code`, `gender`, etc.) show **complete data** \n",
    "across both categories, making them reliable for modeling and reporting.\n",
    "\n",
    "These findings informed our cleaning strategy — we **dropped high-null columns** and **retained key temporal fields** \n",
    "for further use in triaging and summarization tasks."
   ]
  },
  {
   "cell_type": "code",
   "execution_count": null,
   "id": "cbdcf463",
   "metadata": {},
   "outputs": [],
   "source": [
    "#cleaning data\n",
    "\n",
    "Cleaned_LLM_data = clean_claim_data(LLM_data, null_threshold=0.5)\n"
   ]
  },
  {
   "cell_type": "code",
   "execution_count": null,
   "id": "51f06a15",
   "metadata": {},
   "outputs": [],
   "source": [
    "LLM_claim_data = add_claim_features(Cleaned_LLM_data)"
   ]
  },
  {
   "cell_type": "code",
   "execution_count": null,
   "id": "c8e9a5f6",
   "metadata": {},
   "outputs": [],
   "source": [
    "LLM_claim_data.head()"
   ]
  },
  {
   "cell_type": "markdown",
   "id": "6648b322",
   "metadata": {},
   "source": [
    "### 3.  Objective: Analyzing Claim Patterns by Demographics"
   ]
  },
  {
   "cell_type": "markdown",
   "id": "edd15417",
   "metadata": {},
   "source": [
    "####  `claim_type` by `age_group`\n",
    "By examining the types of claims filed across different age groups, we aim to: </br>\n",
    "- Identify age-specific risk categories (e.g., younger individuals may report different claims than older groups) </br>\n",
    "- Guide policy or product personalization based on age-related risk exposure </br>\n",
    "- Prioritize automation for high-frequency age-claim pairings </br>"
   ]
  },
  {
   "cell_type": "markdown",
   "id": "fed0cb73",
   "metadata": {},
   "source": [
    "### 🎯 Objective: Claim Injury Type by Age Group\n",
    "\n",
    "This visualization aims to uncover **patterns in injury types across different age groups**, which is essential for:</br>\n",
    "\n",
    "-  Personalized **triaging workflows** based on claimant demographics.</br>\n",
    "-  Building robust **risk profiling models** for proactive mitigation.</br>\n",
    "-  Supporting **targeted safety policies** and age-specific workplace interventions.</br>\n"
   ]
  },
  {
   "cell_type": "code",
   "execution_count": null,
   "id": "67f3ed79",
   "metadata": {},
   "outputs": [],
   "source": [
    "# Set plot style\n",
    "plt.figure(figsize=(12, 6))\n",
    "sns.countplot(\n",
    "    data=LLM_claim_data,\n",
    "    x='age_group',\n",
    "    hue='claim_type',\n",
    "    palette='Set2'\n",
    ")\n",
    "\n",
    "# Enhance plot\n",
    "plt.title(\"Distribution of Claim Types by Age Group\", fontsize=14)\n",
    "plt.xlabel(\"Age Group\", fontsize=12)\n",
    "plt.ylabel(\"Number of Claims\", fontsize=12)\n",
    "plt.xticks(rotation=45)\n",
    "plt.legend(title=\"Claim Type\", bbox_to_anchor=(1.05, 1), loc='upper left')\n",
    "plt.tight_layout()\n",
    "plt.show()"
   ]
  },
  {
   "cell_type": "markdown",
   "id": "d6cbaf3a",
   "metadata": {},
   "source": [
    "###  Insights from the Visual\n",
    "\n",
    "- The **30–44** age group shows the **highest number of claims**, followed by **<18**, and **45–59**. </br>\n",
    "- **Claims are heavily concentrated among younger to middle-aged individuals**, especially those within active working age. </br>\n",
    "- There is a **very low number of claims filed by those aged 60+**, </br>\n",
    "  indicating fewer reported incidents or possibly underreporting in that group. </br>\n",
    "- The chart also shows that **“workers compensation claims” dominate across all age groups**,  </br>\n",
    "while **“non-wc” claims are nearly negligible**, which may reflect the operational scope or data collection emphasis.\n"
   ]
  },
  {
   "cell_type": "markdown",
   "id": "c6d58997",
   "metadata": {},
   "source": [
    "### 4. Objective: Claim Injury Type by Age Group\n",
    "\n",
    "This visualization aims to uncover **patterns in injury types across different age groups**, which is essential for:\n",
    "\n",
    "- Personalized **triaging workflows** based on claimant demographics.\n",
    "- Building robust **risk profiling models** for proactive mitigation.\n",
    "- Supporting **targeted safety policies** and age-specific workplace interventions."
   ]
  },
  {
   "cell_type": "code",
   "execution_count": null,
   "id": "a921069e",
   "metadata": {},
   "outputs": [],
   "source": [
    "plt.figure(figsize=(12, 6))\n",
    "sns.countplot(data=LLM_claim_data, x=\"claim_injury_type\", hue=\"age_group\", order=LLM_claim_data[\"claim_injury_type\"].value_counts().index)\n",
    "plt.title(\"Claim Injury Type by Gender\")\n",
    "plt.xticks(rotation=45, ha='right')\n",
    "plt.xlabel(\"Injury Type\")\n",
    "plt.ylabel(\"Number of claims\")\n",
    "plt.tight_layout()\n",
    "plt.show()\n"
   ]
  },
  {
   "cell_type": "markdown",
   "id": "141dba55",
   "metadata": {},
   "source": [
    "### Insights from the Visual:\n",
    "\n",
    "- The **<18** and **30–44** age groups report the highest number of claims, especially for:\n",
    "  - **\"non-comp\"** (non-compensable cases)\n",
    "  - **\"temporary\"** injuries (likely short-term medical cases)\n",
    "\n",
    "- The **45–59** group shows increased frequency in **permanent disability** claims like:\n",
    "  - **\"ppd sch loss\"** (Permanent Partial Disability – Scheduled Loss)\n",
    "  - **\"med only\"** (Medical only with no time off)\n",
    "\n",
    "- Claims such as **\"cancelled\"**, **\"ptd\"**, and **\"death\"** are rare and spread thinly across all age groups.\n",
    "\n",
    "- **Older age groups (60–74 and 75+)** have fewer claims overall, possibly due to reduced workforce participation."
   ]
  },
  {
   "cell_type": "markdown",
   "id": "f89f7178",
   "metadata": {},
   "source": [
    "#### 5. Objective: `claim_injury_type` by `gender`\n",
    "This analysis will help us: </br>\n",
    "- Understand gender-based trends in injury-related claims </br>\n",
    "- Assess whether certain injuries are predominantly reported by one gender </br>\n",
    "- Detect potential systemic or workplace-related risks that affect specific groups </br>"
   ]
  },
  {
   "cell_type": "code",
   "execution_count": null,
   "id": "6bdba530",
   "metadata": {},
   "outputs": [],
   "source": [
    "plt.figure(figsize=(12, 6))\n",
    "sns.countplot(data=LLM_claim_data, x=\"claim_injury_type\", hue=\"gender\", order=LLM_claim_data[\"claim_injury_type\"].value_counts().index)\n",
    "plt.title(\"Claim Injury Type by Gender\")\n",
    "plt.xticks(rotation=45, ha='right')\n",
    "plt.xlabel(\"Injury Type\")\n",
    "plt.ylabel(\"Number of claims\")\n",
    "plt.tight_layout()\n",
    "plt.show()\n"
   ]
  },
  {
   "cell_type": "markdown",
   "id": "968f64ba",
   "metadata": {},
   "source": [
    "### Insights from the Visual:\n",
    "\n",
    "- **Males (`m`) dominate** across all injury types, especially:\n",
    "  - 🔸 *Non-comp* (12,000+)\n",
    "  - 🔸 *Temporary* and *PPD Scheduled Loss* types\n",
    "  - Suggests **higher workplace exposure** or **risk-prone roles**\n",
    "\n",
    "- **Females (`f`) follow**, but at a significantly lower count:\n",
    "  - Most frequent in *non-comp* and *temporary* injuries\n",
    "  - Still notable participation in *PPD* and *medical-only* categories\n",
    "\n",
    "- The **`u` (unknown)** gender category appears consistently but sparsely across injury types\n",
    "  - Indicates **incomplete demographic data** or missing entries\n",
    "\n",
    "---\n",
    "\n",
    "These insights can help:\n",
    "- Develop **gender-sensitive triage models**\n",
    "- Inform **occupational health policies**\n",
    "- Guide **data quality improvements** for missing gender fields"
   ]
  },
  {
   "cell_type": "markdown",
   "id": "2508d962",
   "metadata": {},
   "source": [
    "#### 6. Objective: `claim_type` by `district_name`\n",
    "By comparing claim types across districts or regions, we can: </br>\n",
    "- Identify geographic hotspots for certain claim types (e.g., traffic-related vs work-related) </br>\n",
    "- Optimize resource allocation for claims processing teams </br>\n",
    "- Detect potential regional fraud patterns or localized risk drivers </br>"
   ]
  },
  {
   "cell_type": "code",
   "execution_count": null,
   "id": "9818bf9f",
   "metadata": {},
   "outputs": [],
   "source": [
    "# Create a cross-tabulation table (district_name x claim_type)\n",
    "heatmap_data = pd.crosstab(LLM_claim_data['district_name'], LLM_claim_data['claim_type'])\n",
    "\n",
    "# Optional: sort rows by total claims\n",
    "heatmap_data = heatmap_data.loc[heatmap_data.sum(axis=1).sort_values(ascending=False).index[:15]]\n",
    "\n",
    "# Plot heatmap\n",
    "plt.figure(figsize=(14, 8))\n",
    "sns.heatmap(heatmap_data, annot=True, fmt='d', cmap='YlGnBu', linewidths=.5)\n",
    "\n",
    "plt.title(\"Heatmap of Claim Types by District Name\", fontsize=14)\n",
    "plt.xlabel(\"Claim Type\")\n",
    "plt.ylabel(\"District Name\")\n",
    "plt.tight_layout()\n",
    "plt.show()"
   ]
  },
  {
   "cell_type": "markdown",
   "id": "d2dfd9a4",
   "metadata": {},
   "source": [
    "### 🔍 Insights: Claim Types by District Name\n",
    "\n",
    "The heatmap visualization reveals significant geographical disparities in the distribution of claim types across districts:\n",
    "\n",
    "- **New York City (NYC)** leads by a substantial margin, recording over **47,000 workers compensation claims**. </br>\n",
    "This indicates a major concentration of workplace-related incidents or possibly more efficient claim reporting systems in NYC. </br>\n",
    "\n",
    "- **Long Island** and **Albany** follow distantly, with **1,736** and **261** claims respectively, highlighting NYC's outlier status.\n",
    "\n",
    "- Districts like **Binghamton, Syracuse, Buffalo**, and **Rochester** show **very low or no non-WC claims**, suggesting:\n",
    "  - Smaller workforce presence\n",
    "  - Fewer hazardous working environments\n",
    "  - Potential underreporting or centralized claims management\n",
    "\n",
    "- **Non-workers compensation claims** are minimal across all districts, including NYC, </br>\n",
    "reinforcing that the dataset is **heavily skewed toward workplace-related claims**. </br>\n",
    "\n",
    "This geographic trend is crucial for **resource allocation**, **triage model tuning**, </br>\n",
    "and **targeted safety interventions** in high-claim areas."
   ]
  },
  {
   "cell_type": "markdown",
   "id": "4ebce0b9",
   "metadata": {},
   "source": [
    "## Temporal Patterns: Seasonality & Volume Analysis\n",
    "\n",
    "Understanding when claims occur and how they accumulate over time is essential for optimizing triaging models, </br>\n",
    "allocating processing resources, and uncovering operational bottlenecks. </br>\n",
    "This section explores the time-based behavior of insurance claims using visualizations that highlight seasonality, </br>\n",
    "volume growth, and processing delays.\n"
   ]
  },
  {
   "cell_type": "markdown",
   "id": "d9e020a9",
   "metadata": {},
   "source": [
    "### 7. Objective: Cumulative Growth of Claims Over Time\n",
    "This cumulative view provides a holistic look at:\n",
    "- The rate at which claims are accumulating throughout the dataset\n",
    "- Long-term trends or saturation points\n",
    "- Whether claims growth is linear, exponential, or event-driven"
   ]
  },
  {
   "cell_type": "code",
   "execution_count": null,
   "id": "ed9dc4a7",
   "metadata": {},
   "outputs": [],
   "source": [
    "# Ensure accident_date is in datetime format\n",
    "LLM_claim_data['accident_date'] = pd.to_datetime(LLM_claim_data['accident_date'], errors='coerce')\n",
    "\n",
    "# Drop missing dates\n",
    "cumulative_df = LLM_claim_data.dropna(subset=['accident_date'])\n",
    "\n",
    "# Group by date and compute cumulative count\n",
    "cumulative_df = (\n",
    "    cumulative_df\n",
    "    .groupby('accident_date')\n",
    "    .size()\n",
    "    .cumsum()\n",
    "    .reset_index(name='cumulative_claims')\n",
    ")\n",
    "\n",
    "# Plot area chart\n",
    "plt.figure(figsize=(12, 6))\n",
    "plt.fill_between(cumulative_df['accident_date'], cumulative_df['cumulative_claims'], alpha=0.4)\n",
    "plt.plot(cumulative_df['accident_date'], cumulative_df['cumulative_claims'], linewidth=2)\n",
    "\n",
    "# Enhance plot\n",
    "plt.title(\"📈 Cumulative Growth of Insurance Claims Over Time\", fontsize=14)\n",
    "plt.xlabel(\"Accident Date\")\n",
    "plt.ylabel(\"Cumulative Number of Claims\")\n",
    "plt.grid(alpha=0.3)\n",
    "plt.tight_layout()\n",
    "plt.show()"
   ]
  },
  {
   "cell_type": "markdown",
   "id": "6c63ab8b",
   "metadata": {},
   "source": [
    "###  Cumulative Growth of Insurance Claims Over Time\n",
    "\n",
    "The area plot clearly shows that the **majority of insurance claims occurred between the years 2000 and 2020**.</br>\n",
    "During this period, there is a **sharp and consistent increase in cumulative claims**, indicating:</br>\n",
    "\n",
    "- A possible rise in workplace incidents or better reporting mechanisms\n",
    "- Increased workforce participation or expansion of industries covered by insurance\n",
    "- Improved digital documentation and tracking of claims\n",
    "\n",
    "The trend stabilizes after 2020, suggesting either a drop in incidents, delays in data collection, or recent data not yet captured.</br>\n",
    "\n",
    "🔹 **Implication**: Models and policies targeting claim triaging and fraud detection should</br>\n",
    " **focus heavily on patterns from the 2000–2020 window**, as it contains the bulk of historical behavior."
   ]
  },
  {
   "cell_type": "markdown",
   "id": "8e6410d2",
   "metadata": {},
   "source": [
    "### 8. Objective: Delays Between `accident_date` and Current Date\n",
    "By calculating delays (i.e., the time between an accident occurring and the claim being processed), we can:\n",
    "- Assess operational efficiency and processing lag\n",
    "- Detect any backlogs in the claim handling process\n",
    "- Uncover whether delays are consistent or fluctuate seasonally"
   ]
  },
  {
   "cell_type": "code",
   "execution_count": null,
   "id": "f5bb139f",
   "metadata": {},
   "outputs": [],
   "source": [
    "# Convert to datetime\n",
    "LLM_claim_data['accident_date'] = pd.to_datetime(LLM_claim_data['accident_date'], errors='coerce')\n",
    "\n",
    "LLM_claim_data['current_date'] = pd.to_datetime(\"today\")\n",
    "\n",
    "# Calculate delay in days\n",
    "LLM_claim_data['delay_days'] = (LLM_claim_data['current_date'] - LLM_claim_data['accident_date']).dt.days\n",
    "\n",
    "# Extract month and day for calendar-style plot\n",
    "LLM_claim_data['accident_month'] = LLM_claim_data['accident_date'].dt.month\n",
    "LLM_claim_data['accident_day'] = LLM_claim_data['accident_date'].dt.day\n",
    "\n",
    "# Create pivot table for heatmap (average delay by day/month)\n",
    "calendar_data = (\n",
    "    LLM_claim_data\n",
    "    .groupby(['accident_month', 'accident_day'])['delay_days']\n",
    "    .mean()\n",
    "    .unstack()\n",
    ")\n",
    "\n",
    "# Plot the calendar-style heatmap\n",
    "plt.figure(figsize=(16, 6))\n",
    "sns.heatmap(calendar_data, cmap='YlOrRd', linewidths=0.5, linecolor='gray', annot=False)\n",
    "\n",
    "# Enhance plot\n",
    "plt.title(\"Average Claim Delay (in Days) by Accident Date\", fontsize=14)\n",
    "plt.xlabel(\"Day of Month\")\n",
    "plt.ylabel(\"Month\")\n",
    "plt.tight_layout()\n",
    "plt.show()"
   ]
  },
  {
   "cell_type": "markdown",
   "id": "8bbaf35b",
   "metadata": {},
   "source": [
    "\n",
    "#### 🛠 Feature Engineering Note\n",
    "The `accident_month` used in this visualization is an **engineered feature**, derived from the `accident_date`.</br>\n",
    "This was done to better understand **temporal trends** and to support **seasonal analysis** of claim delays.</br>\n",
    "\n",
    "#### 🔍 Insights\n",
    "- The heatmap shows the **average number of days** it took for a claim to be submitted after the accident, grouped by **day of the month** and **month**.</br>\n",
    "- **January 1st** and **September 11th** show the **longest average delays**, possibly due to public holidays, reduced staffing, or end-of-year backlogs.</br>\n",
    "- Delays appear to be more **consistent mid-month**, suggesting operational stabilization after the start of each month.</br>\n",
    "- **Seasonality matters**: \n",
    "- Higher average delays are seen in **January and September**, which may reflect administrative lags, </br>\n",
    "  vacation periods, or bulk submissions.\n",
    "- Understanding these patterns helps identify **bottlenecks** and informs **triaging strategy**, **resource planning**,</br> \n",
    "and potential **policy changes** to improve efficiency."
   ]
  },
  {
   "cell_type": "markdown",
   "id": "edb00a24",
   "metadata": {},
   "source": [
    "### 🔸 Number of claims across age groups\n",
    "By analyzing the `age_group` feature, we aim to:\n",
    "- Identify high-risk or high-volume age categories\n",
    "- Support triage automation by prioritizing frequent age segments\n",
    "- Explore whether specific age groups require specialized attention, communication, or interventions"
   ]
  },
  {
   "cell_type": "code",
   "execution_count": null,
   "id": "2d3cd6c8",
   "metadata": {},
   "outputs": [],
   "source": [
    "# Visualize age group distribution\n",
    "labels = ['<18', '18–29', '30–44', '45–59', '60–74', '75+']\n",
    "\n",
    "plt.figure(figsize=(10, 5))\n",
    "sns.countplot(data=LLM_claim_data, x='age_group', order=labels, palette='viridis')\n",
    "plt.title(\"Number of Claims per Age Group\")\n",
    "plt.xlabel(\"Age Group\")\n",
    "plt.ylabel(\"Number of Claims\")\n",
    "plt.tight_layout()\n",
    "plt.show()"
   ]
  },
  {
   "cell_type": "markdown",
   "id": "d5beabf8",
   "metadata": {},
   "source": [
    "#### 🛠 Feature Engineering Note\n",
    "The `age_group` used in this chart is an **engineered feature**, created by binning the continuous `age_at_injury`</br>\n",
    "variable into defined age ranges. This helps make the data more interpretable and allows for better demographic analysis.</br>\n",
    "\n",
    "#### 🔍 Insights\n",
    "- The **30–44** age group submitted the **highest number of claims**, followed closely by **<18** and **45–59** age groups. </br>\n",
    "This suggests a high incidence of work-related or insurable injuries among middle-aged adults and younger individuals.</br>\n",
    "- The **18–29** age group has significantly fewer claims compared to adjacent age brackets. This might indicate:\n",
    "  - Lower employment rates in high-risk sectors,\n",
    "  - Less exposure to hazardous environments,\n",
    "  - Or quicker recoveries resulting in fewer formal claims.\n",
    "- Claims drop sharply for individuals aged **60+**, particularly **75+**, likely due to retirement and decreased workforce participation.\n",
    "- These findings are important for understanding **risk exposure by age**, helping insurers or policymakers</br> \n",
    "tailor awareness, prevention, and triaging strategies effectively."
   ]
  },
  {
   "cell_type": "markdown",
   "id": "9d7d4d30",
   "metadata": {},
   "source": [
    "### 9. Objective: Number of Claims per `accident_month`\n",
    "By analyzing how claims are distributed across different months of the year, we aim to:\n",
    "- Identify seasonal spikes in claim volumes (e.g., post-holiday traffic or seasonal injuries)\n",
    "- Align staffing levels with expected workloads\n",
    "- Prepare the business for peak periods with appropriate resources and automation"
   ]
  },
  {
   "cell_type": "code",
   "execution_count": null,
   "id": "890c476e",
   "metadata": {},
   "outputs": [],
   "source": [
    "# Count number of claims per month\n",
    "monthly_claims = LLM_claim_data['accident_month'].value_counts().sort_index()\n",
    "\n",
    "# Plot\n",
    "plt.figure(figsize=(12, 6))\n",
    "sns.barplot(x=monthly_claims.index, y=monthly_claims.values, palette='crest')\n",
    "plt.title('Number of Claims by Month')\n",
    "plt.xlabel('Month')\n",
    "plt.ylabel('Number of Claims')\n",
    "plt.xticks(rotation=45)\n",
    "plt.tight_layout()\n",
    "plt.show()\n"
   ]
  },
  {
   "cell_type": "markdown",
   "id": "147e7116",
   "metadata": {},
   "source": [
    "### Number of Claims by Month\n",
    "\n",
    "#### 🛠 Feature Engineering Note\n",
    "The `month` variable used in this visual was **engineered** by extracting the month from the `accident_date`.</br>\n",
    "This transformation helps identify **seasonal trends** and monthly **volume fluctuations** in insurance claims.</br>\n",
    "\n",
    "#### Insights\n",
    "- The **highest number of claims** occurred in **September (Month 9)**, followed closely by January, March, May, and June.</br>\n",
    "- A noticeable **dip in claims** is seen in **November (Month 11)** and **December (Month 12)**.</br>\n",
    "This could be due to holiday seasons, lower workforce activity, or delays in reporting claims.\n",
    "- Months like **April** and **February** also reflect relatively lower claim volumes compared to peak months.\n",
    "- These temporal patterns can help insurers with:\n",
    "  - **Resource and capacity planning**\n",
    "  - **Budget forecasting**\n",
    "  - **Optimizing triage and staffing during peak claim periods**"
   ]
  },
  {
   "cell_type": "markdown",
   "id": "59010dde",
   "metadata": {},
   "source": [
    "### 10. Objective: Top 10 Claim Injury Types\n",
    "\n",
    "The aim of this analysis is to **identify the most frequent injury types** filed in insurance claims.</br>\n",
    "By ranking the top 10 injury categories, we can prioritize areas for intervention, resource allocation, </br>\n",
    "and risk mitigation. This analysis supports strategic decisions in triaging, policy adjustments, and operational planning.</br>\n"
   ]
  },
  {
   "cell_type": "code",
   "execution_count": null,
   "id": "059b5634",
   "metadata": {},
   "outputs": [],
   "source": [
    "# Count top 10 injury types\n",
    "top_injuries = (\n",
    "    LLM_claim_data['claim_injury_type']\n",
    "    .value_counts()\n",
    "    .head(10)\n",
    "    .sort_values()\n",
    ")\n",
    "\n",
    "# Plot\n",
    "plt.figure(figsize=(10, 6))\n",
    "sns.barplot(x=top_injuries.values, y=top_injuries.index, palette='crest')\n",
    "plt.title(\"Top 10 Claim Injury Types\")\n",
    "plt.xlabel(\"Number of Claims\")\n",
    "plt.ylabel(\"Injury Type\")\n",
    "plt.tight_layout()\n",
    "plt.show()"
   ]
  },
  {
   "cell_type": "markdown",
   "id": "ec70fe9f",
   "metadata": {},
   "source": [
    "#### 🔍 Insights\n",
    "- The **most common injury type** is **\"2. non-comp\"**, accounting for the majority of claims.</br> \n",
    "This may indicate a significant number of non-compensable or ineligible claims.</br>\n",
    "- **\"4. temporary\"** injury types follow closely, suggesting a large portion of claimants experience recoverable injuries.\n",
    "- Claims related to **\"5. ppd sch loss\"** and **\"3. med only\"** are also prevalent,</br> \n",
    "highlighting moderate injuries that involve partial disability or medical-only treatment.</br>\n",
    "- Severe claims like **\"8. death\"** and **\"7. ptd\"** (Permanent Total Disability) \n",
    "are rare but critical, likely associated with high-cost payouts.\n",
    "- Administrative closures or claims without compensation, such as **\"1. cancelled\"**, also contribute notably to the dataset.\n",
    "\n",
    "#### Why This Matters ?\n",
    "- Prioritizing **frequent injury types** allows insurance providers and employers to design **preventative strategies** and **training programs**.\n",
    "- Helps in understanding the **distribution of severity**, supporting actuarial teams in better **reserving** and **premium pricing**.\n",
    "- Assists triaging systems in **automating classification** and **early intervention** for high-risk injury patterns."
   ]
  },
  {
   "cell_type": "markdown",
   "id": "cf56cad9",
   "metadata": {},
   "source": [
    "### 11. Objective: Top 10 Districts by Claim Volume\n",
    "\n",
    "The goal of this analysis is to **identify geographic hotspots** where insurance claims are most concentrated.</br>\n",
    "By examining the **claim volume by district**, we aim to:\n",
    "- Uncover **regional disparities** in claim frequency.\n",
    "- Assist in **resource allocation** for claim assessors and support staff.\n",
    "- Highlight areas that may require **preventive interventions** or deeper investigation into environmental or occupational risk factors."
   ]
  },
  {
   "cell_type": "code",
   "execution_count": null,
   "id": "bcb5220b",
   "metadata": {},
   "outputs": [],
   "source": [
    "# Count top 10 districts\n",
    "top_districts = (\n",
    "    LLM_claim_data['district_name']\n",
    "    .value_counts()\n",
    "    .head(10)\n",
    "    .sort_values()\n",
    ")\n",
    "\n",
    "# Plot\n",
    "plt.figure(figsize=(10, 6))\n",
    "sns.barplot(x=top_districts.values, y=top_districts.index, palette='mako')\n",
    "plt.title(\"Top 10 Districts by Claim Volume\")\n",
    "plt.xlabel(\"Number of Claims\")\n",
    "plt.ylabel(\"District Name\")\n",
    "plt.tight_layout()\n",
    "plt.show()"
   ]
  },
  {
   "cell_type": "markdown",
   "id": "44246c96",
   "metadata": {},
   "source": [
    "#### Insights\n",
    "- **New York City (NYC)** overwhelmingly leads in the number of claims, with nearly **48,000 claims**, dwarfing other districts.\n",
    "- **Long Island** ranks second, but with a significantly lower volume, indicating a steep drop-off in claim activity beyond NYC.\n",
    "- Other districts like **Albany**, **Buffalo**, **Syracuse**, and **Rochester** report **minimal claim volumes**, </br>\n",
    "suggesting lower population exposure or better risk mitigation in those regions.\n",
    "- This **geographic imbalance** may reflect urban population density, industry concentration, or reporting behavior.\n",
    "\n",
    "#### Why This Matters\n",
    "- Pinpointing high-claim districts supports **strategic staffing**, **fraud detection**, and **local risk management**.\n",
    "- Data-driven targeting allows insurers to **design localized awareness campaigns**, enforce **safety regulations**, </br>\n",
    "and improve service delivery where it is needed most."
   ]
  },
  {
   "cell_type": "markdown",
   "id": "41f0b72f",
   "metadata": {},
   "source": [
    "### 12. Objective: Claim Volume by Current Claim Status\n",
    "\n",
    "This analysis aims to **understand the current state of claims processing**</br>\n",
    "by visualizing the distribution of claim statuses. Specifically, it helps:\n",
    "- Track the **progress and resolution patterns** of claims.\n",
    "- Identify stages where claims tend to **accumulate or stagnate**.\n",
    "- Guide **operational efficiency improvements** and **workflow prioritization**."
   ]
  },
  {
   "cell_type": "code",
   "execution_count": null,
   "id": "f1353ce3",
   "metadata": {},
   "outputs": [],
   "source": [
    "# Count statuses\n",
    "status_counts = (\n",
    "    LLM_claim_data['current_claim_status']\n",
    "    .value_counts()\n",
    "    .sort_values()\n",
    ")\n",
    "\n",
    "# Plot\n",
    "plt.figure(figsize=(10, 5))\n",
    "sns.barplot(x=status_counts.values, y=status_counts.index, palette='mako')\n",
    "plt.title(\"Claim Volume by Current Claim Status\")\n",
    "plt.xlabel(\"Number of Claims\")\n",
    "plt.ylabel(\"Claim Status\")\n",
    "plt.tight_layout()\n",
    "plt.show()"
   ]
  },
  {
   "cell_type": "markdown",
   "id": "982bedfe",
   "metadata": {},
   "source": [
    "####  Insights\n",
    "- The majority of claims are marked as **\"no further action\"**, indicating that many cases</br>\n",
    "may have been resolved or abandoned without a formal closure.\n",
    "- A significant number of claims are **\"administratively closed\"**, showing the formal conclusion of claims that did not require escalation.\n",
    "- Very few claims progress to formal stages such as **\"hearing set\"**, **\"motion set\"**, or **\"returned to examining\"**,</br>\n",
    "suggesting that only a small portion of claims face legal or complex processing paths.\n",
    "- The small proportion of **\"case cancelled\"** and **\"re-opened administratively\"** </br>\n",
    "indicates minimal rework or reversals in claim outcomes.\n",
    "\n",
    "####  Why This Matters\n",
    "- This distribution helps in **assessing processing load**, understanding **system bottlenecks**, </br>\n",
    "and **forecasting resource needs** for active claims.\n",
    "- It also offers **operational transparency**—key for compliance reporting and internal audit processes."
   ]
  },
  {
   "cell_type": "markdown",
   "id": "b2cb8196",
   "metadata": {},
   "source": [
    "## Summary of EDA Findings\n",
    "\n",
    "## Claim Volume and Distribution  \n",
    "Most claims fall under the category of **workers compensation claims**, while non-workers compensation claims are minimal. \n",
    "Geographically,</br>\n",
    "**New York City (NYC)** dominates in claim volume, far ahead of other districts like Long Island and Albany.</br>\n",
    "This suggests a strong concentration of workplace-related incidents in urban centers. </br>\n",
    "\n",
    "The **30–44 age group** emerged as the most active in filing claims, followed by 45–59 and under 18,</br>\n",
    " reflecting typical working-age and dependent populations. The top injury types were:\n",
    "- `non-comp`\n",
    "- `temporary`\n",
    "- `ppd sch loss`\n",
    "\n",
    "These injury categories indicate the prevalence of minor to moderate injuries, which are common in workplace environments.\n",
    "\n",
    "## Temporal Trends  \n",
    "Claims surged between **2000 and 2020**, showing a significant increase in reporting or incidents during that period.</br> \n",
    "Notably, **September** recorded the highest monthly claims, hinting at potential seasonality in claim occurrences.\n",
    "\n",
    "Averages in **claim delays** varied across days and months. This insight is based on an engineered `month` </br>\n",
    "feature derived from `accident_date`, enabling us to capture seasonal trends and administrative inefficiencies more effectively.\n",
    "\n",
    "## Demographic Patterns  \n",
    "Gender analysis revealed that **males are significantly more likely to file injury claims**,</br>\n",
    "particularly for non-comp and temporary injuries. Female claimants were underrepresented across all injury types.\n",
    "\n",
    "The age distribution, powered by an engineered `age group` feature, confirmed that</br>\n",
    "**younger and middle-aged adults** are the most frequent claimants.</br>\n",
    "These insights reinforce the link between claim activity and employment status or exposure to physical work environments.\n",
    "\n",
    "## Missing Data Patterns  \n",
    "A review of missingness showed that some columns, such as `wcio_cause_of_injury_desc` and `wcio_nature_of_injury_desc`, </br>\n",
    "had over **95% missing values** and were excluded from further analysis. However,</br>\n",
    "columns like `accident_date`—although incomplete—were retained and labeled as `\"Unknown\"` due to their analytical relevance.\n",
    "\n",
    "Missing data varied by claim type, with **workers compensation claims** having more complete records, making them more reliable for further modeling.\n",
    "\n",
    "## Claim Status Insights  \n",
    "The majority of claims resulted in either **\"no further action\"** or were **\"administratively closed\"**,</br>\n",
    "showing that most cases are resolved without requiring legal escalation. Very few claims progressed to hearings or motions,</br>\n",
    "indicating efficient internal processing or low dispute rates.\n",
    "\n",
    "## Key Takeaways  \n",
    "- **NYC and working-age males** are central to claim activity.  \n",
    "- Seasonality and timing can influence volume and delay—vital for triaging and staffing.  \n",
    "- **Engineered features** like `month` and `age group` revealed actionable patterns.  \n",
    "- **Missing data** is manageable but requires selective cleaning and imputation.  \n",
    "- This foundational analysis prepares the ground for **predictive modeling**, such as risk scoring, fraud detection, or delay estimation.\n",
    "\n"
   ]
  }
 ],
 "metadata": {
  "kernelspec": {
   "display_name": "venv",
   "language": "python",
   "name": "python3"
  },
  "language_info": {
   "codemirror_mode": {
    "name": "ipython",
    "version": 3
   },
   "file_extension": ".py",
   "mimetype": "text/x-python",
   "name": "python",
   "nbconvert_exporter": "python",
   "pygments_lexer": "ipython3",
   "version": "3.10.12"
  }
 },
 "nbformat": 4,
 "nbformat_minor": 5
}
