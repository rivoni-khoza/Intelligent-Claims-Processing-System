{
 "cells": [
  {
   "cell_type": "code",
   "execution_count": null,
   "id": "24c7299e",
   "metadata": {},
   "outputs": [],
   "source": [
    "import sys\n",
    "sys.path.append('../data')  # Go up one level and into 'data'"
   ]
  },
  {
   "cell_type": "code",
   "execution_count": null,
   "id": "7a075b29",
   "metadata": {},
   "outputs": [],
   "source": [
    "from get_data import load_claim_data # type: ignore"
   ]
  },
  {
   "cell_type": "code",
   "execution_count": null,
   "id": "9c1fd598",
   "metadata": {},
   "outputs": [],
   "source": [
    "url = \"https://data.ny.gov/resource/jshw-gkgu.json\"\n",
    "params = {\n",
    "    \"$limit\": \"50000\"\n",
    "}\n",
    "\n",
    "claim_data = load_claim_data(url, params)\n",
    "claim_data.head()"
   ]
  },
  {
   "cell_type": "code",
   "execution_count": null,
   "id": "857fbcda",
   "metadata": {},
   "outputs": [],
   "source": [
    "# view of all the columns through transpose method\n",
    "claim_data.head().T"
   ]
  },
  {
   "cell_type": "code",
   "execution_count": null,
   "id": "ca8c473b",
   "metadata": {},
   "outputs": [],
   "source": [
    "# overall data column view\n",
    "claim_data.columns"
   ]
  },
  {
   "cell_type": "code",
   "execution_count": null,
   "id": "ce05ce2e",
   "metadata": {},
   "outputs": [],
   "source": [
    "# filtering and segmentation of raw data\n",
    "LLM_data = claim_data[[\n",
    "    'claim_identifier',          \n",
    "    'claim_type',                 \n",
    "    'claim_injury_type',          \n",
    "    'accident_date',              \n",
    "    'accident_ind',               \n",
    "    'oiics_event_exposure_desc',  \n",
    "    'oiics_nature_injury_desc',  \n",
    "    'oiics_injury_source_desc',   \n",
    "    'wcio_cause_of_injury_desc',  \n",
    "    'wcio_nature_of_injury_desc', \n",
    "    'current_claim_status',       \n",
    "    'gender', \n",
    "    'age_at_injury',   \n",
    "    'district_name', \n",
    "    'zip_code'\n",
    "]]\n"
   ]
  },
  {
   "cell_type": "code",
   "execution_count": null,
   "id": "f83299f6",
   "metadata": {},
   "outputs": [],
   "source": [
    "LLM_data.head()"
   ]
  }
 ],
 "metadata": {
  "kernelspec": {
   "display_name": "venv (3.10.12)",
   "language": "python",
   "name": "python3"
  },
  "language_info": {
   "codemirror_mode": {
    "name": "ipython",
    "version": 3
   },
   "file_extension": ".py",
   "mimetype": "text/x-python",
   "name": "python",
   "nbconvert_exporter": "python",
   "pygments_lexer": "ipython3",
   "version": "3.10.12"
  }
 },
 "nbformat": 4,
 "nbformat_minor": 5
}
