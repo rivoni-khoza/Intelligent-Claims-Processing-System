{
 "cells": [
  {
   "cell_type": "markdown",
   "id": "834d6624",
   "metadata": {},
   "source": [
    "## Data Ingestion"
   ]
  },
  {
   "cell_type": "code",
   "execution_count": null,
   "id": "9dc438e4",
   "metadata": {},
   "outputs": [],
   "source": [
    "from get_data import load_claim_data # type: ignore\n",
    "import sys\n",
    "sys.path.append('../data')  # Go up one level and into 'data'\n",
    "import matplotlib.pyplot as plt # type: ignore\n",
    "import seaborn as sns\n",
    "from turtle import pd"
   ]
  },
  {
   "cell_type": "code",
   "execution_count": null,
   "id": "9c1fd598",
   "metadata": {},
   "outputs": [],
   "source": [
    "url = \"https://data.ny.gov/resource/jshw-gkgu.json\"\n",
    "params = {\n",
    "    \"$limit\": \"50000\"\n",
    "}\n",
    "\n",
    "claim_data = load_claim_data(url, params)\n",
    "claim_data.head()"
   ]
  },
  {
   "cell_type": "code",
   "execution_count": null,
   "id": "857fbcda",
   "metadata": {},
   "outputs": [],
   "source": [
    "# view of all the columns through transpose method\n",
    "claim_data.head().T"
   ]
  },
  {
   "cell_type": "markdown",
   "id": "e223a51b",
   "metadata": {},
   "source": [
    "# LLM data EDA"
   ]
  },
  {
   "cell_type": "code",
   "execution_count": null,
   "id": "ce05ce2e",
   "metadata": {},
   "outputs": [],
   "source": [
    "# filtering and segmentation of raw data\n",
    "LLM_data = claim_data[[\n",
    "    'claim_identifier',          \n",
    "    'claim_type',                 \n",
    "    'claim_injury_type',          \n",
    "    'accident_date',              \n",
    "    'accident_ind',               \n",
    "    'oiics_event_exposure_desc',  \n",
    "    'oiics_nature_injury_desc',  \n",
    "    'oiics_injury_source_desc',   \n",
    "    'wcio_cause_of_injury_desc',  \n",
    "    'wcio_nature_of_injury_desc', \n",
    "    'current_claim_status',       \n",
    "    'gender', \n",
    "    'age_at_injury',   \n",
    "    'district_name', \n",
    "    'zip_code'\n",
    "]]\n"
   ]
  },
  {
   "cell_type": "code",
   "execution_count": null,
   "id": "f83299f6",
   "metadata": {},
   "outputs": [],
   "source": [
    "LLM_data.head()"
   ]
  },
  {
   "cell_type": "code",
   "execution_count": null,
   "id": "6ebab755",
   "metadata": {},
   "outputs": [],
   "source": [
    "LLM_data.shape"
   ]
  },
  {
   "cell_type": "code",
   "execution_count": null,
   "id": "063ca08e",
   "metadata": {},
   "outputs": [],
   "source": [
    "LLM_data.info()"
   ]
  },
  {
   "cell_type": "code",
   "execution_count": null,
   "id": "aada24a2",
   "metadata": {},
   "outputs": [],
   "source": [
    "LLM_data.isna().sum()"
   ]
  },
  {
   "cell_type": "code",
   "execution_count": null,
   "id": "4ecba36d",
   "metadata": {},
   "outputs": [],
   "source": [
    "\n",
    "missing = LLM_data.isna().sum()\n",
    "missing = missing[missing > 0].sort_values(ascending=True)\n",
    "\n",
    "plt.figure(figsize=(10, 6))\n",
    "missing.plot(kind='barh', color='skyblue')\n",
    "plt.title(\"Missing Values per Column\")\n",
    "plt.xlabel(\"Number of Missing Values\")\n",
    "plt.ylabel(\"Column\")\n",
    "plt.tight_layout()\n",
    "plt.show()"
   ]
  },
  {
   "cell_type": "code",
   "execution_count": null,
   "id": "a40bc65a",
   "metadata": {},
   "outputs": [],
   "source": [
    "LLM_data_null = LLM_data[[\"accident_date\", \n",
    "                          \"oiics_event_exposure_desc\", \n",
    "                          \"oiics_nature_injury_desc\",\n",
    "                          \"oiics_injury_source_desc\",\n",
    "                          \"wcio_cause_of_injury_desc\",\n",
    "                          \"wcio_nature_of_injury_desc\"\n",
    "]]"
   ]
  },
  {
   "cell_type": "code",
   "execution_count": null,
   "id": "13963d7c",
   "metadata": {},
   "outputs": [],
   "source": [
    "LLM_data_null.head()"
   ]
  },
  {
   "cell_type": "code",
   "execution_count": null,
   "id": "d6e4ad87",
   "metadata": {},
   "outputs": [],
   "source": [
    "LLM_data_null.sort_values(by='accident_date', ascending=False)"
   ]
  },
  {
   "cell_type": "code",
   "execution_count": null,
   "id": "6e2a07f1",
   "metadata": {},
   "outputs": [],
   "source": [
    "\n",
    "# Count frequency of each injury type\n",
    "injury_counts = LLM_data[\"claim_injury_type\"].value_counts()\n",
    "\n",
    "# Plot vertical bar chart\n",
    "plt.figure(figsize=(12, 6))\n",
    "injury_counts.plot(kind='bar', color='steelblue')\n",
    "\n",
    "# Add labels and title\n",
    "plt.title(\"Frequency of Claim Injury Types\", fontsize=14)\n",
    "plt.xlabel(\"Injury Type\", fontsize=12)\n",
    "plt.ylabel(\"Number of Claims\", fontsize=12)\n",
    "plt.xticks(rotation=45, ha='right')\n",
    "plt.tight_layout()\n",
    "plt.show()\n",
    "\n"
   ]
  },
  {
   "cell_type": "code",
   "execution_count": null,
   "id": "6bdba530",
   "metadata": {},
   "outputs": [],
   "source": [
    "plt.figure(figsize=(12, 6))\n",
    "sns.countplot(data=LLM_data, x=\"claim_injury_type\", hue=\"gender\", order=LLM_data[\"claim_injury_type\"].value_counts().index)\n",
    "plt.title(\"Claim Injury Type by Gender\")\n",
    "plt.xticks(rotation=45, ha='right')\n",
    "plt.xlabel(\"Injury Type\")\n",
    "plt.ylabel(\"Count\")\n",
    "plt.tight_layout()\n",
    "plt.show()\n"
   ]
  },
  {
   "cell_type": "code",
   "execution_count": null,
   "id": "b0876101",
   "metadata": {},
   "outputs": [],
   "source": [
    "pivot_table = LLM_data.pivot_table(\n",
    "    index=\"district_name\",\n",
    "    columns=\"claim_injury_type\",\n",
    "    values=\"claim_identifier\",  # or use `.size()` after groupby\n",
    "    aggfunc='count',\n",
    "    fill_value=0\n",
    ")\n",
    "\n",
    "# Plot heatmap\n",
    "plt.figure(figsize=(14, 8))\n",
    "sns.heatmap(pivot_table, cmap=\"Blues\", linewidths=0.5)\n",
    "plt.title(\"Heatmap: Claim Injury Type by District\")\n",
    "plt.xlabel(\"Injury Type\")\n",
    "plt.ylabel(\"District\")\n",
    "plt.tight_layout()\n",
    "plt.show()\n"
   ]
  },
  {
   "cell_type": "code",
   "execution_count": null,
   "id": "2d3cd6c8",
   "metadata": {},
   "outputs": [],
   "source": [
    "# Step 1: Convert 'age_at_injury' to numeric\n",
    "LLM_data['age_at_injury'] = pd.to_numeric(LLM_data['age_at_injury'], errors='coerce')\n",
    "\n",
    "# Step 2: Drop rows where age is missing (or alternatively, fill with median)\n",
    "LLM_data = LLM_data.dropna(subset=['age_at_injury'])\n",
    "# Optional alternative:\n",
    "# LLM_data['age_at_injury'].fillna(LLM_data['age_at_injury'].median(), inplace=True)\n",
    "\n",
    "# Step 3: Define age bins and labels\n",
    "bins = [0, 18, 30, 45, 60, 75, 100]\n",
    "labels = ['<18', '18–29', '30–44', '45–59', '60–74', '75+']\n",
    "\n",
    "# Step 4: Create age group column\n",
    "LLM_data['age_group'] = pd.cut(LLM_data['age_at_injury'], bins=bins, labels=labels, right=False)\n",
    "\n",
    "# Step 5: Check result\n",
    "print(LLM_data['age_group'].value_counts().sort_index())\n",
    "\n",
    "# Step 6 (Optional): Visualize age group distribution\n",
    "plt.figure(figsize=(10, 5))\n",
    "sns.countplot(data=LLM_data, x='age_group', order=labels, palette='viridis')\n",
    "plt.title(\"Number of Claims per Age Group\")\n",
    "plt.xlabel(\"Age Group\")\n",
    "plt.ylabel(\"Number of Claims\")\n",
    "plt.tight_layout()\n",
    "plt.show()\n",
    "\n",
    "\n"
   ]
  },
  {
   "cell_type": "code",
   "execution_count": null,
   "id": "890c476e",
   "metadata": {},
   "outputs": [],
   "source": [
    "# Ensure date is in datetime format\n",
    "LLM_data['accident_date'] = pd.to_datetime(LLM_data['accident_date'], errors='coerce')\n",
    "\n",
    "# Extract full month name and categorize for correct order\n",
    "LLM_data['accident_month'] = pd.Categorical(\n",
    "    LLM_data['accident_date'].dt.month_name(),\n",
    "    categories=['January', 'February', 'March', 'April', 'May', 'June',\n",
    "                'July', 'August', 'September', 'October', 'November', 'December'],\n",
    "    ordered=True\n",
    ")\n",
    "\n",
    "# Count number of claims per month\n",
    "monthly_claims = LLM_data['accident_month'].value_counts().sort_index()\n",
    "\n",
    "# Plot\n",
    "plt.figure(figsize=(12, 6))\n",
    "sns.barplot(x=monthly_claims.index, y=monthly_claims.values, palette='crest')\n",
    "plt.title('Number of Claims by Month')\n",
    "plt.xlabel('Month')\n",
    "plt.ylabel('Number of Claims')\n",
    "plt.xticks(rotation=45)\n",
    "plt.tight_layout()\n",
    "plt.show()\n"
   ]
  },
  {
   "cell_type": "code",
   "execution_count": null,
   "id": "5f6cfa35",
   "metadata": {},
   "outputs": [],
   "source": [
    "# Step 1: Ensure accident_date is in datetime format\n",
    "LLM_data['accident_date'] = pd.to_datetime(LLM_data['accident_date'], errors='coerce')\n",
    "\n",
    "# Step 2: Extract and categorize month names\n",
    "LLM_data['accident_month'] = pd.Categorical(\n",
    "    LLM_data['accident_date'].dt.month_name(),\n",
    "    categories=['January', 'February', 'March', 'April', 'May', 'June',\n",
    "                'July', 'August', 'September', 'October', 'November', 'December'],\n",
    "    ordered=True\n",
    ")\n",
    "\n",
    "# Step 3: Create pivot table (rows: months, columns: injury types, values: counts)\n",
    "pivot = pd.pivot_table(\n",
    "    LLM_data,\n",
    "    index='accident_month',\n",
    "    columns='claim_injury_type',\n",
    "    values='claim_identifier',  # could use any consistent non-null column\n",
    "    aggfunc='count',\n",
    "    fill_value=0\n",
    ")\n",
    "\n",
    "# Step 4: Plot the heatmap\n",
    "plt.figure(figsize=(14, 8))\n",
    "sns.heatmap(pivot, cmap='YlGnBu', linewidths=0.5, annot=False)\n",
    "plt.title('Heatmap: Claim Injury Type by Month')\n",
    "plt.xlabel('Claim Injury Type')\n",
    "plt.ylabel('Accident Month')\n",
    "plt.tight_layout()\n",
    "plt.show()\n"
   ]
  }
 ],
 "metadata": {
  "kernelspec": {
   "display_name": "venv (3.10.12)",
   "language": "python",
   "name": "python3"
  },
  "language_info": {
   "codemirror_mode": {
    "name": "ipython",
    "version": 3
   },
   "file_extension": ".py",
   "mimetype": "text/x-python",
   "name": "python",
   "nbconvert_exporter": "python",
   "pygments_lexer": "ipython3",
   "version": "3.10.12"
  }
 },
 "nbformat": 4,
 "nbformat_minor": 5
}
